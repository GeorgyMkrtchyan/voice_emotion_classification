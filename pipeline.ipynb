{
  "cells": [
    {
      "cell_type": "markdown",
      "metadata": {},
      "source": [
        "# Emotion Recognition Model Pipelines"
      ]
    },
    {
      "cell_type": "code",
      "execution_count": null,
      "metadata": {},
      "outputs": [],
      "source": [
        "try:\n",
        "    import google.colab\n",
        "    IN_COLAB = True\n",
        "except ImportError:\n",
        "    IN_COLAB = False\n",
        "\n",
        "if IN_COLAB:\n",
        "    !git clone git@github.com:aaptss/voice_emotion_classification.git\n",
        "    %cd voice_emotion_classification"
      ]
    },
    {
      "cell_type": "markdown",
      "metadata": {
        "id": "33hWgvVmJ-20"
      },
      "source": [
        "## Download data"
      ]
    },
    {
      "cell_type": "code",
      "execution_count": null,
      "metadata": {
        "colab": {
          "base_uri": "https://localhost:8080/"
        },
        "id": "GcE6HXee8kcd",
        "outputId": "46b9e692-0157-42d3-ad9b-e3fa43de6c69"
      },
      "outputs": [],
      "source": [
        "!test -d LCB_data_snd_devided || test -f LCB_data_snd_devided.zip || gdown http://headkraken.gg/soft/Dan/LCB_data_snd_devided.zip\n",
        "!test -d LCB_data_snd_devided || unzip -qq LCB_data_snd_devided.zip"
      ]
    },
    {
      "cell_type": "code",
      "execution_count": null,
      "metadata": {
        "colab": {
          "base_uri": "https://localhost:8080/"
        },
        "id": "kz-Oc-K19Apd",
        "outputId": "a4ad70b6-5aa5-4469-c663-6ca3f06b8a17"
      },
      "outputs": [],
      "source": [
        "!test -d demos || test -f LCB_demos.zip || gdown http://headkraken.gg/soft/LCB_demos.zip\n",
        "!test -d demos || unzip -qq LCB_demos.zip"
      ]
    },
    {
      "cell_type": "code",
      "execution_count": null,
      "metadata": {
        "colab": {
          "base_uri": "https://localhost:8080/"
        },
        "id": "yNzLUP9KE9cI",
        "outputId": "52781a40-8302-4dd2-c793-6df337d4a1f9"
      },
      "outputs": [],
      "source": [
        "!test -d LCB_added || test -f LCB_added_rep.zip || gdown --id 13s0uq6eWU5bx3Ctik5Wy4baN-wBctoOu\n",
        "!test -d LCB_added || unzip -q LCB_added_rep.zip"
      ]
    },
    {
      "cell_type": "code",
      "execution_count": null,
      "metadata": {
        "colab": {
          "base_uri": "https://localhost:8080/"
        },
        "id": "HPMrvcFzBd7A",
        "outputId": "b0362607-9fde-4e74-e27e-c18af4db8fcd"
      },
      "outputs": [],
      "source": [
        "%pip install -q pydub"
      ]
    },
    {
      "cell_type": "markdown",
      "metadata": {
        "id": "yYTVfkweKKGy"
      },
      "source": [
        "## Prepare data"
      ]
    },
    {
      "cell_type": "code",
      "execution_count": null,
      "metadata": {
        "id": "OfpzrLWXCVzJ"
      },
      "outputs": [],
      "source": [
        "import warnings\n",
        "warnings.filterwarnings(\"ignore\")\n",
        "\n",
        "from codes.data_prep import get_dataloader, get_train_test, BaseCustomDataset"
      ]
    },
    {
      "cell_type": "code",
      "execution_count": null,
      "metadata": {
        "id": "2L_7ZRqpCV2g"
      },
      "outputs": [],
      "source": [
        "file_path='./LCB_added'\n",
        "path_to_audio='./LCB_data_snd_devided'\n",
        "path_to_splitted_audio='./LCB_audio'"
      ]
    },
    {
      "cell_type": "code",
      "execution_count": null,
      "metadata": {},
      "outputs": [],
      "source": [
        "train_dataloader,val_dataloader = get_dataloader(file_path=file_path,\n",
        "                                                 path_to_audio=path_to_audio,\n",
        "                                                 path_to_splitted_audio=path_to_splitted_audio,\n",
        "                                                 test_size=0.2,\n",
        "                                                 use_game_context=True,\n",
        "                                                 batch_size=128,\n",
        "                                                 DatasetClass=AttentionLSTM_Dataset)"
      ]
    },
    {
      "cell_type": "code",
      "execution_count": null,
      "metadata": {},
      "outputs": [],
      "source": [
        "data, ctx, labels = next(iter(train_dataloader))\n",
        "print(data.shape, ctx.shape, labels.shape)"
      ]
    },
    {
      "cell_type": "code",
      "execution_count": null,
      "metadata": {},
      "outputs": [],
      "source": [
        "%%time\n",
        "\n",
        "for _ in train_dataloader:\n",
        "    pass"
      ]
    },
    {
      "cell_type": "code",
      "execution_count": null,
      "metadata": {
        "colab": {
          "base_uri": "https://localhost:8080/"
        },
        "id": "IAyzb9pcCWEp",
        "outputId": "27809834-e95f-4194-8c27-6123b44d2e8a"
      },
      "outputs": [],
      "source": [
        "#for ML methods\n",
        "\n",
        "# x_train,ctx_train,y_train,x_test,ctx_test,y_test = get_train_test(\n",
        "#                                                         file_path=file_path,\n",
        "#                                                         path_to_audio=path_to_audio,\n",
        "#                                                         path_to_splitted_audio=path_to_splitted_audio,\n",
        "#                                                         test_size=0.2,\n",
        "#                                                         use_game_context=True\n",
        "#                                                     )"
      ]
    },
    {
      "cell_type": "code",
      "execution_count": null,
      "metadata": {
        "colab": {
          "base_uri": "https://localhost:8080/"
        },
        "id": "jP637OAOGzCk",
        "outputId": "9c57ef54-8713-42f4-c7d3-87331e0eec25"
      },
      "outputs": [],
      "source": [
        "# x_train.shape,y_train.shape"
      ]
    },
    {
      "cell_type": "markdown",
      "metadata": {},
      "source": [
        "## Model"
      ]
    },
    {
      "cell_type": "code",
      "execution_count": null,
      "metadata": {},
      "outputs": [],
      "source": [
        "from codes import AttentionLSTM_Classifier, AttentionLSTM_Dataset, train"
      ]
    },
    {
      "cell_type": "code",
      "execution_count": null,
      "metadata": {},
      "outputs": [],
      "source": [
        "if IN_COLAB:\n",
        "    %load_ext tensorboard\n",
        "    %tensorboard --logdir logs"
      ]
    },
    {
      "cell_type": "code",
      "execution_count": null,
      "metadata": {
        "id": "sn4qVmkxGzG-"
      },
      "outputs": [],
      "source": [
        "model = AttentionLSTM_Classifier(57, context_dims=0)\n",
        "\n",
        "model, trainer = codes.base.train(model,\n",
        "                    train_dataloader,\n",
        "                    val_dataloader,\n",
        "                    max_epochs=1)"
      ]
    },
    {
      "cell_type": "code",
      "execution_count": null,
      "metadata": {},
      "outputs": [],
      "source": []
    }
  ],
  "metadata": {
    "colab": {
      "collapsed_sections": [],
      "name": "data_preparation.ipynb",
      "provenance": []
    },
    "interpreter": {
      "hash": "84215ecf6b44fa45b69685be54e6dc891374cf14fb6187a5b28c405da2adae30"
    },
    "kernelspec": {
      "display_name": "Python 3.10.4 64-bit ('torch')",
      "language": "python",
      "name": "python3"
    },
    "language_info": {
      "codemirror_mode": {
        "name": "ipython",
        "version": 3
      },
      "file_extension": ".py",
      "mimetype": "text/x-python",
      "name": "python",
      "nbconvert_exporter": "python",
      "pygments_lexer": "ipython3",
      "version": "3.10.4"
    }
  },
  "nbformat": 4,
  "nbformat_minor": 0
}
