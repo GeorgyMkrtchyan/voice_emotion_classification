{
  "cells": [
    {
      "cell_type": "markdown",
      "metadata": {},
      "source": [
        "# Emotion Recognition Model Pipelines"
      ]
    },
    {
      "cell_type": "code",
      "execution_count": 1,
      "metadata": {},
      "outputs": [],
      "source": [
        "try:\n",
        "    import google.colab\n",
        "    IN_COLAB = True\n",
        "except ImportError:\n",
        "    IN_COLAB = False\n",
        "\n",
        "if IN_COLAB:\n",
        "    !git clone git@github.com:aaptss/voice_emotion_classification.git\n",
        "    %cd voice_emotion_classification"
      ]
    },
    {
      "cell_type": "markdown",
      "metadata": {
        "id": "33hWgvVmJ-20"
      },
      "source": [
        "## Download data"
      ]
    },
    {
      "cell_type": "code",
      "execution_count": 2,
      "metadata": {
        "colab": {
          "base_uri": "https://localhost:8080/"
        },
        "id": "GcE6HXee8kcd",
        "outputId": "46b9e692-0157-42d3-ad9b-e3fa43de6c69"
      },
      "outputs": [],
      "source": [
        "!test -d LCB_data_snd_devided || test -f LCB_data_snd_devided.zip || gdown http://headkraken.gg/soft/Dan/LCB_data_snd_devided.zip\n",
        "!test -d LCB_data_snd_devided || unzip -qq LCB_data_snd_devided.zip"
      ]
    },
    {
      "cell_type": "code",
      "execution_count": 3,
      "metadata": {
        "colab": {
          "base_uri": "https://localhost:8080/"
        },
        "id": "kz-Oc-K19Apd",
        "outputId": "a4ad70b6-5aa5-4469-c663-6ca3f06b8a17"
      },
      "outputs": [],
      "source": [
        "!test -d demos || test -f LCB_demos.zip || gdown http://headkraken.gg/soft/LCB_demos.zip\n",
        "!test -d demos || unzip -qq LCB_demos.zip"
      ]
    },
    {
      "cell_type": "code",
      "execution_count": 4,
      "metadata": {
        "colab": {
          "base_uri": "https://localhost:8080/"
        },
        "id": "yNzLUP9KE9cI",
        "outputId": "52781a40-8302-4dd2-c793-6df337d4a1f9"
      },
      "outputs": [],
      "source": [
        "!test -d LCB_added || test -f LCB_added_rep.zip || gdown --id 13s0uq6eWU5bx3Ctik5Wy4baN-wBctoOu\n",
        "!test -d LCB_added || unzip -q LCB_added_rep.zip"
      ]
    },
    {
      "cell_type": "code",
      "execution_count": 5,
      "metadata": {
        "colab": {
          "base_uri": "https://localhost:8080/"
        },
        "id": "HPMrvcFzBd7A",
        "outputId": "b0362607-9fde-4e74-e27e-c18af4db8fcd"
      },
      "outputs": [
        {
          "name": "stdout",
          "output_type": "stream",
          "text": [
            "Note: you may need to restart the kernel to use updated packages.\n"
          ]
        }
      ],
      "source": [
        "%pip install -q pydub methodtools"
      ]
    },
    {
      "cell_type": "markdown",
      "metadata": {
        "id": "yYTVfkweKKGy"
      },
      "source": [
        "## Prepare data"
      ]
    },
    {
      "cell_type": "code",
      "execution_count": 6,
      "metadata": {
        "id": "OfpzrLWXCVzJ"
      },
      "outputs": [],
      "source": [
        "import warnings\n",
        "warnings.filterwarnings(\"ignore\")\n",
        "\n",
        "from codes.data_prep import get_dataloader, get_train_test, BaseCustomDataset\n",
        "from codes import AttentionLSTM_Dataset"
      ]
    },
    {
      "cell_type": "code",
      "execution_count": 7,
      "metadata": {
        "id": "2L_7ZRqpCV2g"
      },
      "outputs": [],
      "source": [
        "file_path='./LCB_added'\n",
        "path_to_audio='./LCB_data_snd_devided'\n",
        "path_to_splitted_audio='./LCB_audio'"
      ]
    },
    {
      "cell_type": "code",
      "execution_count": 8,
      "metadata": {},
      "outputs": [
        {
          "name": "stdout",
          "output_type": "stream",
          "text": [
            "./LCB_audio exists; skip splitting\n",
            "Emotion statistic:\n",
            "1 - 4686     интерес\n",
            "2 - 473     радость\n",
            "3 - 170     удивление\n",
            "4 - 173     горе\n",
            "5 - 632     гнев\n",
            "6 - 6     отвращение\n",
            "7 - 158     презрение\n",
            "8 - 265     страх\n",
            "9 - 1     стыд\n",
            "10 - 67     вина\n",
            "\n",
            "Prepare train and val lists\n",
            "It took:  3.16  minutes\n",
            "train size:  5304\n",
            "val size:  1326\n",
            "\n",
            "Prepate train dataset\n"
          ]
        },
        {
          "data": {
            "application/vnd.jupyter.widget-view+json": {
              "model_id": "92e12e27f5364fb6b8410a0d10857d5c",
              "version_major": 2,
              "version_minor": 0
            },
            "text/plain": [
              "  0%|          | 0/5304 [00:00<?, ?it/s]"
            ]
          },
          "metadata": {},
          "output_type": "display_data"
        },
        {
          "name": "stdout",
          "output_type": "stream",
          "text": [
            "Prepate val dataset\n"
          ]
        },
        {
          "data": {
            "application/vnd.jupyter.widget-view+json": {
              "model_id": "69a25d93d59b4fe78164cbf0cb27df2e",
              "version_major": 2,
              "version_minor": 0
            },
            "text/plain": [
              "  0%|          | 0/1326 [00:00<?, ?it/s]"
            ]
          },
          "metadata": {},
          "output_type": "display_data"
        }
      ],
      "source": [
        "train_dataloader,val_dataloader = get_dataloader(file_path=file_path,\n",
        "                                                 path_to_audio=path_to_audio,\n",
        "                                                 path_to_splitted_audio=path_to_splitted_audio,\n",
        "                                                 test_size=0.2,\n",
        "                                                 use_game_context=False,\n",
        "                                                 batch_size=128,\n",
        "                                                 DatasetClass=AttentionLSTM_Dataset)"
      ]
    },
    {
      "cell_type": "code",
      "execution_count": 11,
      "metadata": {},
      "outputs": [
        {
          "name": "stdout",
          "output_type": "stream",
          "text": [
            "CPU times: user 38.9 ms, sys: 26.9 ms, total: 65.8 ms\n",
            "Wall time: 185 ms\n"
          ]
        }
      ],
      "source": [
        "%%time\n",
        "\n",
        "for _ in train_dataloader:\n",
        "    pass"
      ]
    },
    {
      "cell_type": "code",
      "execution_count": null,
      "metadata": {
        "colab": {
          "base_uri": "https://localhost:8080/"
        },
        "id": "IAyzb9pcCWEp",
        "outputId": "27809834-e95f-4194-8c27-6123b44d2e8a"
      },
      "outputs": [],
      "source": [
        "#for ML methods\n",
        "\n",
        "# x_train,ctx_train,y_train,x_test,ctx_test,y_test = get_train_test(\n",
        "#                                                         file_path=file_path,\n",
        "#                                                         path_to_audio=path_to_audio,\n",
        "#                                                         path_to_splitted_audio=path_to_splitted_audio,\n",
        "#                                                         test_size=0.2,\n",
        "#                                                         use_game_context=True\n",
        "#                                                     )"
      ]
    },
    {
      "cell_type": "code",
      "execution_count": null,
      "metadata": {
        "colab": {
          "base_uri": "https://localhost:8080/"
        },
        "id": "jP637OAOGzCk",
        "outputId": "9c57ef54-8713-42f4-c7d3-87331e0eec25"
      },
      "outputs": [],
      "source": [
        "# x_train.shape,y_train.shape"
      ]
    },
    {
      "cell_type": "markdown",
      "metadata": {},
      "source": [
        "## Model"
      ]
    },
    {
      "cell_type": "code",
      "execution_count": 12,
      "metadata": {},
      "outputs": [],
      "source": [
        "from codes import AttentionLSTM_Classifier, train"
      ]
    },
    {
      "cell_type": "code",
      "execution_count": 13,
      "metadata": {},
      "outputs": [],
      "source": [
        "if IN_COLAB:\n",
        "    %load_ext tensorboard\n",
        "    %tensorboard --logdir logs"
      ]
    },
    {
      "cell_type": "code",
      "execution_count": 14,
      "metadata": {
        "id": "sn4qVmkxGzG-"
      },
      "outputs": [
        {
          "name": "stderr",
          "output_type": "stream",
          "text": [
            "GPU available: False, used: False\n",
            "TPU available: False, using: 0 TPU cores\n",
            "IPU available: False, using: 0 IPUs\n",
            "HPU available: False, using: 0 HPUs\n",
            "\n",
            "  | Name              | Type             | Params\n",
            "-------------------------------------------------------\n",
            "0 | loss_fn           | CrossEntropyLoss | 0     \n",
            "1 | f1                | F1Score          | 0     \n",
            "2 | val_accuracy      | Accuracy         | 0     \n",
            "3 | train_accuracy    | Accuracy         | 0     \n",
            "4 | lstm1             | LSTM             | 1.2 M \n",
            "5 | lstm2             | LSTM             | 788 K \n",
            "6 | time_attention    | TimeAttention    | 65.5 K\n",
            "7 | feature_attention | FeatureAttention | 131 K \n",
            "8 | classifier        | Sequential       | 67.0 K\n",
            "-------------------------------------------------------\n",
            "2.2 M     Trainable params\n",
            "0         Non-trainable params\n",
            "2.2 M     Total params\n",
            "8.886     Total estimated model params size (MB)\n"
          ]
        },
        {
          "data": {
            "application/vnd.jupyter.widget-view+json": {
              "model_id": "45b22ba940be418bba0ba8325d99302b",
              "version_major": 2,
              "version_minor": 0
            },
            "text/plain": [
              "Sanity Checking: 0it [00:00, ?it/s]"
            ]
          },
          "metadata": {},
          "output_type": "display_data"
        },
        {
          "data": {
            "application/vnd.jupyter.widget-view+json": {
              "model_id": "172c8e86eb1f4d1b93e48340991a4288",
              "version_major": 2,
              "version_minor": 0
            },
            "text/plain": [
              "Training: 0it [00:00, ?it/s]"
            ]
          },
          "metadata": {},
          "output_type": "display_data"
        },
        {
          "data": {
            "application/vnd.jupyter.widget-view+json": {
              "model_id": "cee354960608455d8c244c85b639677f",
              "version_major": 2,
              "version_minor": 0
            },
            "text/plain": [
              "Validation: 0it [00:00, ?it/s]"
            ]
          },
          "metadata": {},
          "output_type": "display_data"
        }
      ],
      "source": [
        "model = AttentionLSTM_Classifier(57, context_dims=0)\n",
        "\n",
        "model, trainer = train(model, train_dataloader, val_dataloader, max_epochs=10)"
      ]
    },
    {
      "cell_type": "code",
      "execution_count": null,
      "metadata": {},
      "outputs": [],
      "source": []
    }
  ],
  "metadata": {
    "colab": {
      "collapsed_sections": [],
      "name": "data_preparation.ipynb",
      "provenance": []
    },
    "interpreter": {
      "hash": "84215ecf6b44fa45b69685be54e6dc891374cf14fb6187a5b28c405da2adae30"
    },
    "kernelspec": {
      "display_name": "Python 3.10.4 64-bit ('torch')",
      "language": "python",
      "name": "python3"
    },
    "language_info": {
      "codemirror_mode": {
        "name": "ipython",
        "version": 3
      },
      "file_extension": ".py",
      "mimetype": "text/x-python",
      "name": "python",
      "nbconvert_exporter": "python",
      "pygments_lexer": "ipython3",
      "version": "3.10.4"
    }
  },
  "nbformat": 4,
  "nbformat_minor": 0
}
