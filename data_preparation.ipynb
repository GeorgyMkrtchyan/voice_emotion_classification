{
  "cells": [
    {
      "cell_type": "markdown",
      "metadata": {
        "id": "33hWgvVmJ-20"
      },
      "source": [
        "# Download data"
      ]
    },
    {
      "cell_type": "code",
      "execution_count": 1,
      "metadata": {
        "colab": {
          "base_uri": "https://localhost:8080/"
        },
        "id": "GcE6HXee8kcd",
        "outputId": "46b9e692-0157-42d3-ad9b-e3fa43de6c69"
      },
      "outputs": [
        {
          "name": "stdout",
          "output_type": "stream",
          "text": [
            "Downloading...\n",
            "From: http://headkraken.gg/soft/Dan/LCB_data_snd_devided.zip\n",
            "To: /content/LCB_data_snd_devided.zip\n",
            "100% 8.15G/8.15G [13:19<00:00, 10.2MB/s]\n"
          ]
        }
      ],
      "source": [
        "!gdown http://headkraken.gg/soft/Dan/LCB_data_snd_devided.zip\n",
        "!unzip -qq LCB_data_snd_devided.zip"
      ]
    },
    {
      "cell_type": "code",
      "execution_count": 2,
      "metadata": {
        "colab": {
          "base_uri": "https://localhost:8080/"
        },
        "id": "kz-Oc-K19Apd",
        "outputId": "a4ad70b6-5aa5-4469-c663-6ca3f06b8a17"
      },
      "outputs": [
        {
          "name": "stdout",
          "output_type": "stream",
          "text": [
            "Downloading...\n",
            "From: http://headkraken.gg/soft/LCB_demos.zip\n",
            "To: /content/LCB_demos.zip\n",
            "100% 324M/324M [00:39<00:00, 8.26MB/s]\n"
          ]
        }
      ],
      "source": [
        "!gdown http://headkraken.gg/soft/LCB_demos.zip\n",
        "!unzip -qq LCB_demos.zip"
      ]
    },
    {
      "cell_type": "code",
      "execution_count": 3,
      "metadata": {
        "colab": {
          "base_uri": "https://localhost:8080/"
        },
        "id": "yNzLUP9KE9cI",
        "outputId": "52781a40-8302-4dd2-c793-6df337d4a1f9"
      },
      "outputs": [
        {
          "name": "stdout",
          "output_type": "stream",
          "text": [
            "/usr/local/lib/python3.7/dist-packages/gdown/cli.py:131: FutureWarning: Option `--id` was deprecated in version 4.3.1 and will be removed in 5.0. You don't need to pass it anymore to use a file ID.\n",
            "  category=FutureWarning,\n",
            "Downloading...\n",
            "From: https://drive.google.com/uc?id=13s0uq6eWU5bx3Ctik5Wy4baN-wBctoOu\n",
            "To: /content/LCB_added_rep.zip\n",
            "100% 294k/294k [00:00<00:00, 62.8MB/s]\n"
          ]
        }
      ],
      "source": [
        "!gdown --id 13s0uq6eWU5bx3Ctik5Wy4baN-wBctoOu\n",
        "!unzip -q LCB_added_rep.zip"
      ]
    },
    {
      "cell_type": "code",
      "execution_count": 4,
      "metadata": {
        "colab": {
          "base_uri": "https://localhost:8080/"
        },
        "id": "Jyq4aoX2Ptyd",
        "outputId": "1a3b350b-7519-4bf5-994c-8dbcb6cc225c"
      },
      "outputs": [
        {
          "name": "stdout",
          "output_type": "stream",
          "text": [
            "/usr/local/lib/python3.7/dist-packages/gdown/cli.py:131: FutureWarning: Option `--id` was deprecated in version 4.3.1 and will be removed in 5.0. You don't need to pass it anymore to use a file ID.\n",
            "  category=FutureWarning,\n",
            "Downloading...\n",
            "From: https://drive.google.com/uc?id=1BdXSmAlogOrJyyoQ9SQ1HzOZpTvCBrw-\n",
            "To: /content/demo_analysis_new.py\n",
            "100% 8.29k/8.29k [00:00<00:00, 12.1MB/s]\n"
          ]
        }
      ],
      "source": [
        "!gdown --id 1BdXSmAlogOrJyyoQ9SQ1HzOZpTvCBrw-"
      ]
    },
    {
      "cell_type": "code",
      "execution_count": 5,
      "metadata": {
        "colab": {
          "base_uri": "https://localhost:8080/"
        },
        "id": "HPMrvcFzBd7A",
        "outputId": "b0362607-9fde-4e74-e27e-c18af4db8fcd"
      },
      "outputs": [
        {
          "name": "stdout",
          "output_type": "stream",
          "text": [
            "Collecting pydub\n",
            "  Downloading pydub-0.25.1-py2.py3-none-any.whl (32 kB)\n",
            "Installing collected packages: pydub\n",
            "Successfully installed pydub-0.25.1\n"
          ]
        }
      ],
      "source": [
        "%pip install pydub"
      ]
    },
    {
      "cell_type": "markdown",
      "metadata": {
        "id": "yYTVfkweKKGy"
      },
      "source": [
        "# Prepare data"
      ]
    },
    {
      "cell_type": "code",
      "execution_count": 17,
      "metadata": {
        "id": "OfpzrLWXCVzJ"
      },
      "outputs": [],
      "source": [
        "import warnings\n",
        "warnings.filterwarnings(\"ignore\")\n",
        "\n",
        "from codes.data_prep import *"
      ]
    },
    {
      "cell_type": "code",
      "execution_count": 18,
      "metadata": {
        "id": "2L_7ZRqpCV2g"
      },
      "outputs": [],
      "source": [
        "file_path='./LCB_added'\n",
        "path_to_audio='./LCB_data_snd_devided'\n",
        "path_to_splitted_audio='./LCB_audio'"
      ]
    },
    {
      "cell_type": "code",
      "execution_count": 19,
      "metadata": {
        "colab": {
          "base_uri": "https://localhost:8080/"
        },
        "id": "-X6CfZ1nCV5v",
        "outputId": "69b1fe46-a848-4acd-c950-53e8a3b09c15"
      },
      "outputs": [
        {
          "name": "stdout",
          "output_type": "stream",
          "text": [
            "Start splitting audio to  ./LCB_audio\n",
            "Finish splitting\n",
            "\n",
            "Emotion statistic:\n",
            "1 - 4686     интерес\n",
            "2 - 473     радость\n",
            "3 - 170     удивление\n",
            "4 - 173     горе\n",
            "5 - 632     гнев\n",
            "6 - 6     отвращение\n",
            "7 - 158     презрение\n",
            "8 - 265     страх\n",
            "9 - 1     стыд\n",
            "10 - 67     вина\n",
            "\n",
            "Prepare train and val lists\n",
            "It took:  4.87  minutes\n",
            "train size:  5304\n",
            "val size:  1326\n",
            "\n",
            "Prepate train dataset\n",
            "Prepate val dataset\n"
          ]
        }
      ],
      "source": [
        "train_dataloader,val_dataloader = get_dataloader(file_path=file_path,\n",
        "                                                 path_to_audio=path_to_audio,\n",
        "                                                 path_to_splitted_audio=path_to_splitted_audio,\n",
        "                                                 test_size=0.2,\n",
        "                                                 use_game_context=False,\n",
        "                                                 batch_size=32)"
      ]
    },
    {
      "cell_type": "code",
      "execution_count": null,
      "metadata": {
        "colab": {
          "base_uri": "https://localhost:8080/"
        },
        "id": "hnCdmHSJCV9C",
        "outputId": "2844cb88-78d9-4dd5-a382-6903717ce5c0"
      },
      "outputs": [
        {
          "data": {
            "text/plain": [
              "torch.Size([32, 1, 66150])"
            ]
          },
          "execution_count": 10,
          "metadata": {},
          "output_type": "execute_result"
        }
      ],
      "source": [
        "next(iter(train_dataloader))[0].shape"
      ]
    },
    {
      "cell_type": "code",
      "execution_count": null,
      "metadata": {
        "colab": {
          "base_uri": "https://localhost:8080/"
        },
        "id": "SWA7ySCqGocq",
        "outputId": "35735f43-fcbf-4b7a-f109-e2d68f2e7020"
      },
      "outputs": [
        {
          "data": {
            "text/plain": [
              "torch.Size([32, 10])"
            ]
          },
          "execution_count": 12,
          "metadata": {},
          "output_type": "execute_result"
        }
      ],
      "source": [
        "next(iter(train_dataloader))[1].shape"
      ]
    },
    {
      "cell_type": "code",
      "execution_count": null,
      "metadata": {
        "id": "2Nh6hzkdG1m6"
      },
      "outputs": [],
      "source": []
    },
    {
      "cell_type": "code",
      "execution_count": null,
      "metadata": {
        "colab": {
          "base_uri": "https://localhost:8080/"
        },
        "id": "IAyzb9pcCWEp",
        "outputId": "27809834-e95f-4194-8c27-6123b44d2e8a"
      },
      "outputs": [
        {
          "name": "stdout",
          "output_type": "stream",
          "text": [
            "Start split audio to  ./LCB_audio\n",
            "Finish split\n",
            "\n",
            "Emotion statistic:\n",
            "1 - 4686     интерес\n",
            "2 - 473     радость\n",
            "3 - 170     удивление\n",
            "4 - 173     горе\n",
            "5 - 632     гнев\n",
            "6 - 6     отвращение\n",
            "7 - 158     презрение\n",
            "8 - 265     страх\n",
            "9 - 1     стыд\n",
            "10 - 67     вина\n",
            "\n",
            "Prepare train and val lists (take some time)\n",
            "train size:  5304\n",
            "val size:  1326\n",
            "Prepate train dataset\n",
            "Prepate test dataset\n"
          ]
        }
      ],
      "source": [
        "#for ML methods\n",
        "\n",
        "x_train,y_train,x_test,y_test = get_train_test(file_path=file_path,\n",
        "                                                 path_to_audio=path_to_audio,\n",
        "                                                 path_to_splitted_audio=path_to_splitted_audio,\n",
        "                                                 test_size=0.2,\n",
        "                                                 use_game_context=False)"
      ]
    },
    {
      "cell_type": "code",
      "execution_count": null,
      "metadata": {
        "colab": {
          "base_uri": "https://localhost:8080/"
        },
        "id": "jP637OAOGzCk",
        "outputId": "9c57ef54-8713-42f4-c7d3-87331e0eec25"
      },
      "outputs": [
        {
          "data": {
            "text/plain": [
              "((5304, 66150), (5304, 10))"
            ]
          },
          "execution_count": 14,
          "metadata": {},
          "output_type": "execute_result"
        }
      ],
      "source": [
        "x_train.shape,y_train.shape"
      ]
    },
    {
      "cell_type": "code",
      "execution_count": null,
      "metadata": {
        "id": "sn4qVmkxGzG-"
      },
      "outputs": [],
      "source": []
    }
  ],
  "metadata": {
    "colab": {
      "collapsed_sections": [],
      "name": "data_preparation.ipynb",
      "provenance": []
    },
    "interpreter": {
      "hash": "84215ecf6b44fa45b69685be54e6dc891374cf14fb6187a5b28c405da2adae30"
    },
    "kernelspec": {
      "display_name": "Python 3.10.4 64-bit ('torch')",
      "language": "python",
      "name": "python3"
    },
    "language_info": {
      "codemirror_mode": {
        "name": "ipython",
        "version": 3
      },
      "file_extension": ".py",
      "mimetype": "text/x-python",
      "name": "python",
      "nbconvert_exporter": "python",
      "pygments_lexer": "ipython3",
      "version": "3.10.4"
    }
  },
  "nbformat": 4,
  "nbformat_minor": 0
}
