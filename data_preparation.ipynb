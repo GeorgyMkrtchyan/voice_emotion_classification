{
  "cells": [
    {
      "cell_type": "markdown",
      "source": [
        "# Download data"
      ],
      "metadata": {
        "id": "33hWgvVmJ-20"
      }
    },
    {
      "cell_type": "code",
      "execution_count": 2,
      "metadata": {
        "colab": {
          "base_uri": "https://localhost:8080/"
        },
        "id": "GcE6HXee8kcd",
        "outputId": "a9f41099-a4d6-4a2b-e9b8-d0c902b90412"
      },
      "outputs": [
        {
          "output_type": "stream",
          "name": "stdout",
          "text": [
            "Downloading...\n",
            "From: http://headkraken.gg/soft/Dan/LCB_data_snd_devided.zip\n",
            "To: /content/LCB_data_snd_devided.zip\n",
            "100% 8.15G/8.15G [07:57<00:00, 17.0MB/s]\n"
          ]
        }
      ],
      "source": [
        "!gdown http://headkraken.gg/soft/Dan/LCB_data_snd_devided.zip\n",
        "!unzip -qq LCB_data_snd_devided.zip"
      ]
    },
    {
      "cell_type": "code",
      "execution_count": 3,
      "metadata": {
        "id": "kz-Oc-K19Apd",
        "colab": {
          "base_uri": "https://localhost:8080/"
        },
        "outputId": "05d936fd-8fd8-4fb0-f680-d8f8c6bc2416"
      },
      "outputs": [
        {
          "output_type": "stream",
          "name": "stdout",
          "text": [
            "Downloading...\n",
            "From: http://headkraken.gg/soft/LCB_demos.zip\n",
            "To: /content/LCB_demos.zip\n",
            "100% 324M/324M [00:35<00:00, 9.16MB/s]\n"
          ]
        }
      ],
      "source": [
        "!gdown http://headkraken.gg/soft/LCB_demos.zip\n",
        "!unzip -qq LCB_demos.zip"
      ]
    },
    {
      "cell_type": "code",
      "execution_count": 4,
      "metadata": {
        "colab": {
          "base_uri": "https://localhost:8080/"
        },
        "id": "yNzLUP9KE9cI",
        "outputId": "2c6e4433-6ec8-4196-ecef-ffc7e268b74d"
      },
      "outputs": [
        {
          "output_type": "stream",
          "name": "stdout",
          "text": [
            "/usr/local/lib/python3.7/dist-packages/gdown/cli.py:131: FutureWarning: Option `--id` was deprecated in version 4.3.1 and will be removed in 5.0. You don't need to pass it anymore to use a file ID.\n",
            "  category=FutureWarning,\n",
            "Downloading...\n",
            "From: https://drive.google.com/uc?id=13s0uq6eWU5bx3Ctik5Wy4baN-wBctoOu\n",
            "To: /content/LCB_added_rep.zip\n",
            "100% 294k/294k [00:00<00:00, 77.6MB/s]\n"
          ]
        }
      ],
      "source": [
        "!gdown --id 13s0uq6eWU5bx3Ctik5Wy4baN-wBctoOu\n",
        "!unzip -q LCB_added_rep.zip"
      ]
    },
    {
      "cell_type": "code",
      "execution_count": 5,
      "metadata": {
        "colab": {
          "base_uri": "https://localhost:8080/"
        },
        "id": "Jyq4aoX2Ptyd",
        "outputId": "d7bf27c7-ad28-46cc-d8e0-a8223f205fd6"
      },
      "outputs": [
        {
          "output_type": "stream",
          "name": "stdout",
          "text": [
            "/usr/local/lib/python3.7/dist-packages/gdown/cli.py:131: FutureWarning: Option `--id` was deprecated in version 4.3.1 and will be removed in 5.0. You don't need to pass it anymore to use a file ID.\n",
            "  category=FutureWarning,\n",
            "Downloading...\n",
            "From: https://drive.google.com/uc?id=1BdXSmAlogOrJyyoQ9SQ1HzOZpTvCBrw-\n",
            "To: /content/demo_analysis_new.py\n",
            "100% 8.29k/8.29k [00:00<00:00, 12.6MB/s]\n"
          ]
        }
      ],
      "source": [
        "!gdown --id 1BdXSmAlogOrJyyoQ9SQ1HzOZpTvCBrw-"
      ]
    },
    {
      "cell_type": "code",
      "execution_count": 6,
      "metadata": {
        "colab": {
          "base_uri": "https://localhost:8080/"
        },
        "id": "HPMrvcFzBd7A",
        "outputId": "f9cbb1cb-1fc6-4dd5-b264-9083ec707bba"
      },
      "outputs": [
        {
          "output_type": "stream",
          "name": "stdout",
          "text": [
            "Looking in indexes: https://pypi.org/simple, https://us-python.pkg.dev/colab-wheels/public/simple/\n",
            "Collecting pydub\n",
            "  Downloading pydub-0.25.1-py2.py3-none-any.whl (32 kB)\n",
            "Installing collected packages: pydub\n",
            "Successfully installed pydub-0.25.1\n"
          ]
        }
      ],
      "source": [
        "!pip install pydub"
      ]
    },
    {
      "cell_type": "markdown",
      "source": [
        "# Prepare data"
      ],
      "metadata": {
        "id": "yYTVfkweKKGy"
      }
    },
    {
      "cell_type": "code",
      "source": [
        "import warnings\n",
        "warnings.filterwarnings(\"ignore\")\n",
        "\n",
        "from data_prep import *"
      ],
      "metadata": {
        "id": "OfpzrLWXCVzJ"
      },
      "execution_count": 7,
      "outputs": []
    },
    {
      "cell_type": "code",
      "source": [
        "file_path='./LCB_added'\n",
        "path_to_audio='./LCB_data_snd_devided'\n",
        "path_to_splitted_audio='./LCB_audio'"
      ],
      "metadata": {
        "id": "2L_7ZRqpCV2g"
      },
      "execution_count": 8,
      "outputs": []
    },
    {
      "cell_type": "code",
      "source": [
        "train_dataloader,val_dataloader = get_dataloader(file_path=file_path,\n",
        "                                                 path_to_audio=path_to_audio,\n",
        "                                                 path_to_splitted_audio=path_to_splitted_audio,\n",
        "                                                 test_size=0.2,\n",
        "                                                 use_game_context=True,\n",
        "                                                 batch_size=32)"
      ],
      "metadata": {
        "colab": {
          "base_uri": "https://localhost:8080/"
        },
        "id": "s98YRFF2yzTk",
        "outputId": "6f79dda4-83f8-4ea8-90a3-9790deb85422"
      },
      "execution_count": 9,
      "outputs": [
        {
          "output_type": "stream",
          "name": "stdout",
          "text": [
            "Start splitting audio to  ./LCB_audio\n",
            "Finish splitting\n",
            "\n",
            "Emotion statistic:\n",
            "1 - 4686     интерес\n",
            "2 - 473     радость\n",
            "3 - 170     удивление\n",
            "4 - 173     горе\n",
            "5 - 632     гнев\n",
            "6 - 6     отвращение\n",
            "7 - 158     презрение\n",
            "8 - 265     страх\n",
            "9 - 1     стыд\n",
            "10 - 67     вина\n",
            "\n",
            "Prepare train and val lists\n",
            "It took:  5.29  minutes\n",
            "train size:  5304\n",
            "val size:  1326\n",
            "\n",
            "Prepate train dataset\n",
            "Prepate val dataset\n"
          ]
        }
      ]
    },
    {
      "cell_type": "code",
      "source": [
        "next(iter(train_dataloader))[0].shape"
      ],
      "metadata": {
        "colab": {
          "base_uri": "https://localhost:8080/"
        },
        "id": "hnCdmHSJCV9C",
        "outputId": "1112af4a-54f4-4554-ea0a-ec3caf5b0cf0"
      },
      "execution_count": 21,
      "outputs": [
        {
          "output_type": "execute_result",
          "data": {
            "text/plain": [
              "torch.Size([32, 1, 66150])"
            ]
          },
          "metadata": {},
          "execution_count": 21
        }
      ]
    },
    {
      "cell_type": "code",
      "source": [
        "next(iter(train_dataloader))[1].shape"
      ],
      "metadata": {
        "colab": {
          "base_uri": "https://localhost:8080/"
        },
        "id": "SWA7ySCqGocq",
        "outputId": "64bb8952-aad7-4db9-f260-49855b26cd14"
      },
      "execution_count": 11,
      "outputs": [
        {
          "output_type": "execute_result",
          "data": {
            "text/plain": [
              "torch.Size([32, 12])"
            ]
          },
          "metadata": {},
          "execution_count": 11
        }
      ]
    },
    {
      "cell_type": "code",
      "source": [
        "next(iter(train_dataloader))[2].shape"
      ],
      "metadata": {
        "id": "2Nh6hzkdG1m6",
        "colab": {
          "base_uri": "https://localhost:8080/"
        },
        "outputId": "aa28d4a1-f63b-46fa-9770-58d59ab6fd8e"
      },
      "execution_count": 12,
      "outputs": [
        {
          "output_type": "execute_result",
          "data": {
            "text/plain": [
              "torch.Size([32, 10])"
            ]
          },
          "metadata": {},
          "execution_count": 12
        }
      ]
    },
    {
      "cell_type": "code",
      "source": [
        "#for ML methods\n",
        "x_train,ctx_train,y_train,x_test,ctx_test,y_test = get_train_test(file_path=file_path,\n",
        "                                                 path_to_audio=path_to_audio,\n",
        "                                                 path_to_splitted_audio=path_to_splitted_audio,\n",
        "                                                 test_size=0.2,\n",
        "                                                 use_game_context=True)"
      ],
      "metadata": {
        "colab": {
          "base_uri": "https://localhost:8080/"
        },
        "id": "IAyzb9pcCWEp",
        "outputId": "d0fbe540-2715-47ac-f887-7e79c5e54286"
      },
      "execution_count": 17,
      "outputs": [
        {
          "output_type": "stream",
          "name": "stdout",
          "text": [
            "Start splitting audio to  ./LCB_audio\n",
            "Finish splitting\n",
            "\n",
            "Emotion statistic:\n",
            "1 - 4686     интерес\n",
            "2 - 473     радость\n",
            "3 - 170     удивление\n",
            "4 - 173     горе\n",
            "5 - 632     гнев\n",
            "6 - 6     отвращение\n",
            "7 - 158     презрение\n",
            "8 - 265     страх\n",
            "9 - 1     стыд\n",
            "10 - 67     вина\n",
            "\n",
            "Prepare train and val lists\n",
            "It took:  5.37  minutes\n",
            "train size:  5304\n",
            "val size:  1326\n",
            "Prepate train dataset\n",
            "Prepate test dataset\n"
          ]
        }
      ]
    },
    {
      "cell_type": "code",
      "source": [
        "x_train.shape,ctx_train.shape,y_train.shape"
      ],
      "metadata": {
        "colab": {
          "base_uri": "https://localhost:8080/"
        },
        "id": "vikcRJFV4TO1",
        "outputId": "bd225b86-a680-48c4-8ab5-7e7a689e54dc"
      },
      "execution_count": 19,
      "outputs": [
        {
          "output_type": "execute_result",
          "data": {
            "text/plain": [
              "((5304, 66150), (5304, 12), (5304, 10))"
            ]
          },
          "metadata": {},
          "execution_count": 19
        }
      ]
    }
  ],
  "metadata": {
    "colab": {
      "collapsed_sections": [],
      "name": "data_preparation.ipynb",
      "provenance": []
    },
    "kernelspec": {
      "display_name": "Python 3 (ipykernel)",
      "language": "python",
      "name": "python3"
    },
    "language_info": {
      "codemirror_mode": {
        "name": "ipython",
        "version": 3
      },
      "file_extension": ".py",
      "mimetype": "text/x-python",
      "name": "python",
      "nbconvert_exporter": "python",
      "pygments_lexer": "ipython3",
      "version": "3.8.3"
    }
  },
  "nbformat": 4,
  "nbformat_minor": 0
}