{
  "cells": [
    {
      "cell_type": "markdown",
      "metadata": {
        "id": "33hWgvVmJ-20"
      },
      "source": [
        "# Download data"
      ]
    },
    {
      "cell_type": "code",
      "execution_count": null,
      "metadata": {
        "colab": {
          "base_uri": "https://localhost:8080/"
        },
        "id": "GcE6HXee8kcd",
        "outputId": "a9f41099-a4d6-4a2b-e9b8-d0c902b90412"
      },
      "outputs": [],
      "source": [
        "!gdown http://headkraken.gg/soft/Dan/LCB_data_snd_devided.zip\n",
        "!unzip -qq LCB_data_snd_devided.zip"
      ]
    },
    {
      "cell_type": "code",
      "execution_count": null,
      "metadata": {
        "colab": {
          "base_uri": "https://localhost:8080/"
        },
        "id": "kz-Oc-K19Apd",
        "outputId": "a4ad70b6-5aa5-4469-c663-6ca3f06b8a17"
      },
      "outputs": [],
      "source": [
        "!gdown http://headkraken.gg/soft/LCB_demos.zip\n",
        "!unzip -qq LCB_demos.zip"
      ]
    },
    {
      "cell_type": "code",
      "execution_count": null,
      "metadata": {
        "colab": {
          "base_uri": "https://localhost:8080/"
        },
        "id": "yNzLUP9KE9cI",
        "outputId": "2c6e4433-6ec8-4196-ecef-ffc7e268b74d"
      },
      "outputs": [],
      "source": [
        "!gdown --id 13s0uq6eWU5bx3Ctik5Wy4baN-wBctoOu\n",
        "!unzip -q LCB_added_rep.zip"
      ]
    },
    {
      "cell_type": "code",
      "execution_count": null,
      "metadata": {
        "colab": {
          "base_uri": "https://localhost:8080/"
        },
        "id": "Jyq4aoX2Ptyd",
        "outputId": "d7bf27c7-ad28-46cc-d8e0-a8223f205fd6"
      },
      "outputs": [],
      "source": [
        "!gdown --id 1BdXSmAlogOrJyyoQ9SQ1HzOZpTvCBrw-"
      ]
    },
    {
      "cell_type": "code",
      "execution_count": null,
      "metadata": {
        "colab": {
          "base_uri": "https://localhost:8080/"
        },
        "id": "HPMrvcFzBd7A",
        "outputId": "f9cbb1cb-1fc6-4dd5-b264-9083ec707bba"
      },
      "outputs": [],
      "source": [
        "%pip install pydub"
      ]
    },
    {
      "cell_type": "markdown",
      "metadata": {
        "id": "yYTVfkweKKGy"
      },
      "source": [
        "# Prepare data"
      ]
    },
    {
      "cell_type": "code",
      "execution_count": null,
      "metadata": {
        "id": "OfpzrLWXCVzJ"
      },
      "outputs": [],
      "source": [
        "import warnings\n",
        "warnings.filterwarnings(\"ignore\")\n",
        "\n",
        "from codes.data_prep import *"
      ]
    },
    {
      "cell_type": "code",
      "execution_count": null,
      "metadata": {
        "id": "2L_7ZRqpCV2g"
      },
      "outputs": [],
      "source": [
        "file_path='./LCB_added'\n",
        "path_to_audio='./LCB_data_snd_devided'\n",
        "path_to_splitted_audio='./LCB_audio'"
      ]
    },
    {
      "cell_type": "code",
      "execution_count": null,
      "metadata": {
        "colab": {
          "base_uri": "https://localhost:8080/"
        },
        "id": "s98YRFF2yzTk",
        "outputId": "6f79dda4-83f8-4ea8-90a3-9790deb85422"
      },
      "outputs": [],
      "source": [
        "train_dataloader,val_dataloader = get_dataloader(file_path=file_path,\n",
        "                                                 path_to_audio=path_to_audio,\n",
        "                                                 path_to_splitted_audio=path_to_splitted_audio,\n",
        "                                                 test_size=0.2,\n",
        "                                                 use_game_context=False,\n",
        "                                                 batch_size=32)"
      ]
    },
    {
      "cell_type": "code",
      "execution_count": null,
      "metadata": {
        "colab": {
          "base_uri": "https://localhost:8080/"
        },
        "id": "hnCdmHSJCV9C",
        "outputId": "1112af4a-54f4-4554-ea0a-ec3caf5b0cf0"
      },
      "outputs": [],
      "source": [
        "next(iter(train_dataloader))[0].shape"
      ]
    },
    {
      "cell_type": "code",
      "execution_count": null,
      "metadata": {
        "colab": {
          "base_uri": "https://localhost:8080/"
        },
        "id": "SWA7ySCqGocq",
        "outputId": "64bb8952-aad7-4db9-f260-49855b26cd14"
      },
      "outputs": [],
      "source": [
        "next(iter(train_dataloader))[1].shape"
      ]
    },
    {
      "cell_type": "code",
      "execution_count": null,
      "metadata": {
        "id": "2Nh6hzkdG1m6"
      },
      "outputs": [],
      "source": []
    },
    {
      "cell_type": "code",
      "execution_count": null,
      "metadata": {
        "colab": {
          "base_uri": "https://localhost:8080/"
        },
        "id": "IAyzb9pcCWEp",
        "outputId": "d0fbe540-2715-47ac-f887-7e79c5e54286"
      },
      "outputs": [],
      "source": [
        "#for ML methods\n",
        "\n",
        "x_train,y_train,x_test,y_test = get_train_test(file_path=file_path,\n",
        "                                                 path_to_audio=path_to_audio,\n",
        "                                                 path_to_splitted_audio=path_to_splitted_audio,\n",
        "                                                 test_size=0.2,\n",
        "                                                 use_game_context=False)"
      ]
    },
    {
      "cell_type": "code",
      "execution_count": null,
      "metadata": {
        "colab": {
          "base_uri": "https://localhost:8080/"
        },
        "id": "vikcRJFV4TO1",
        "outputId": "bd225b86-a680-48c4-8ab5-7e7a689e54dc"
      },
      "outputs": [],
      "source": [
        "x_train.shape,y_train.shape"
      ]
    },
    {
      "cell_type": "code",
      "execution_count": null,
      "metadata": {
        "id": "sn4qVmkxGzG-"
      },
      "outputs": [],
      "source": []
    }
  ],
  "metadata": {
    "colab": {
      "collapsed_sections": [],
      "name": "data_preparation.ipynb",
      "provenance": []
    },
    "interpreter": {
      "hash": "84215ecf6b44fa45b69685be54e6dc891374cf14fb6187a5b28c405da2adae30"
    },
    "kernelspec": {
      "display_name": "Python 3.10.4 64-bit ('torch')",
      "language": "python",
      "name": "python3"
    },
    "language_info": {
      "codemirror_mode": {
        "name": "ipython",
        "version": 3
      },
      "file_extension": ".py",
      "mimetype": "text/x-python",
      "name": "python",
      "nbconvert_exporter": "python",
      "pygments_lexer": "ipython3",
      "version": "3.10.4"
    }
  },
  "nbformat": 4,
  "nbformat_minor": 0
}
